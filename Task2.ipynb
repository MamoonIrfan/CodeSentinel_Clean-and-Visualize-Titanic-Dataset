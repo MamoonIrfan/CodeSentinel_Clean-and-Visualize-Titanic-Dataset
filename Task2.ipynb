{
 "cells": [
  {
   "cell_type": "markdown",
   "id": "ae577a92",
   "metadata": {},
   "source": [
    "Task:2\n",
    "------\n",
    "Using the Titanic dataset:\n",
    "\n",
    "Step 1: Handle missing values (e.g., fill or drop)\n",
    "\n",
    "Step 2: Convert categorical columns to numeric (e.g., gender,\n",
    "class)\n",
    "\n",
    "Step 3: Plot survival rates by gender and class using matplotlib\n",
    "or seaborn\n",
    "\n",
    "️ Tools: pandas, seaborn, matplotlib\n",
    " Goal: Learn to clean data and visualize relationships\n",
    "between variables."
   ]
  },
  {
   "cell_type": "markdown",
   "id": "6e689f89",
   "metadata": {},
   "source": [
    "Load the dataset in a data frame:"
   ]
  },
  {
   "cell_type": "code",
   "execution_count": 70,
   "id": "e24a5aeb",
   "metadata": {},
   "outputs": [],
   "source": [
    "import pandas as pd\n",
    "df=pd.read_csv('titanic.csv')"
   ]
  },
  {
   "cell_type": "markdown",
   "id": "77e5d215",
   "metadata": {},
   "source": [
    "Step 1: Handle Missing Values in Titanic Dataset\n",
    "------------------------------------------------\n",
    "In this step, we are dealing with missing values that exist in different columns of our Titanic dataset.\n",
    "Here is the reasoning for our approach:\n",
    "\n",
    "1. Identify missing values:\n",
    "   - First, we checked which columns have missing values and how many values are missing in each column.\n",
    "   - Example: 'age' has 263 missing values, 'cabin' has 1014 missing values, 'embarked' has 2 missing values, etc.\n",
    "\n",
    "2. Strategy for handling missing values:\n",
    "   - Columns with a very high number of missing values (like 'cabin', 'boat', 'body', 'home.dest') \n",
    "     will be dropped because filling them would not be meaningful and they don’t add strong value to prediction.\n",
    "   - Columns with very few missing values (like 'age', 'fare', 'embarked'):\n",
    "        * 'age' → Replace missing values with median age (since age distribution is not uniform and median is more robust than mean).\n",
    "        * 'fare' → Replace missing values with median fare (same reasoning as above).\n",
    "        * 'embarked' → Replace missing values with mode (most frequent value) since it’s a categorical column.\n",
    "\n",
    "3. Why this approach?\n",
    "   - Dropping unnecessary columns reduces dataset noise.\n",
    "   - Filling missing values instead of dropping rows helps us keep more passenger records, \n",
    "     so our dataset remains strong for training/testing.\n",
    "   - This ensures better quality data for the next analysis and model-building steps.\n",
    "\n",
    "Now let’s implement this plan in code.\n"
   ]
  },
  {
   "cell_type": "code",
   "execution_count": 71,
   "id": "ebda9652",
   "metadata": {},
   "outputs": [
    {
     "data": {
      "text/plain": [
       "pclass      0\n",
       "survived    0\n",
       "name        0\n",
       "sex         0\n",
       "age         0\n",
       "sibsp       0\n",
       "parch       0\n",
       "ticket      0\n",
       "fare        0\n",
       "embarked    0\n",
       "dtype: int64"
      ]
     },
     "execution_count": 71,
     "metadata": {},
     "output_type": "execute_result"
    }
   ],
   "source": [
    "# Drop columns with too many missing values\n",
    "df.drop(['cabin', 'boat', 'body', 'home.dest'], axis=1, inplace=True)\n",
    "\n",
    "# Fill missing values in 'age' and 'fare' with their median\n",
    "df['age']= df['age'].fillna(df['age'].median())\n",
    "df['fare']=df['fare'].fillna(df['fare'].median())   \n",
    "\n",
    "# Fill missing values in 'embarked' with mode (most frequent value)\n",
    "df['embarked']= df['embarked'].fillna(df['embarked'].mode()[0])\n",
    "\n",
    "#verify if there are any missing values left\n",
    "df.isnull().sum()"
   ]
  },
  {
   "cell_type": "markdown",
   "id": "44605e01",
   "metadata": {},
   "source": [
    "Step 2: Convert categorical to numeric using Label Encoding\n",
    "-----------------------------------------------------------"
   ]
  },
  {
   "cell_type": "code",
   "execution_count": 72,
   "id": "fa3fb5fb",
   "metadata": {},
   "outputs": [],
   "source": [
    "# Sex column: male=1, female=0\n",
    "df['sex'] = df['sex'].map({'male': 1, 'female': 0})\n",
    "\n",
    "# Embarked column: C=0, Q=1, S=2\n",
    "df['embarked'] = df['embarked'].map({'C': 0, 'Q': 1, 'S': 2})\n"
   ]
  },
  {
   "cell_type": "markdown",
   "id": "643a6d62",
   "metadata": {},
   "source": [
    "Step 3: Plot survival rates by gender and class using matplotlib or seaborn\n",
    "--------------------------------------------------------------------"
   ]
  },
  {
   "cell_type": "code",
   "execution_count": 73,
   "id": "be465c70",
   "metadata": {},
   "outputs": [
    {
     "data": {
      "image/png": "[encoded data removed]",
      "text/plain": [
       "<Figure size 800x600 with 1 Axes>"
      ]
     },
     "metadata": {},
     "output_type": "display_data"
    }
   ],
   "source": [
    "import matplotlib.pyplot as plt\n",
    "\n",
    "# Step 1: Group data by 'sex' and 'pclass', calculate mean survival rate\n",
    "survival_rates = df.groupby(['sex', 'pclass'])['survived'].mean().unstack()\n",
    "\n",
    "# Step 2: Plot bar chart\n",
    "survival_rates.plot(kind='bar', figsize=(8,6))\n",
    "\n",
    "# Step 3: Labels and title\n",
    "plt.xlabel(\"Gender\")\n",
    "plt.ylabel(\"Survival Rate\")\n",
    "plt.title(\"Survival Rates by Gender and Class\")\n",
    "plt.legend(title=\"Passenger Class\")\n",
    "\n",
    "# Step 4: Show plot\n",
    "plt.show()\n"
   ]
  },
  {
   "cell_type": "markdown",
   "id": "b3765972",
   "metadata": {},
   "source": [
    "Interpretation of Data Visualization:\n",
    "------------------------------------\n",
    "The chart shows the survival rates of Titanic passengers based on gender and class.\n",
    "\n",
    "1. Gender effect:\n",
    "\n",
    " -More women survived compared to men.\n",
    "\n",
    "-This means women had a higher chance of survival.\n",
    "\n",
    "2. Class effect:\n",
    "\n",
    "-Passengers in 1st class had better survival chances than those in 2nd or 3rd class.\n",
    "\n",
    "-People in 3rd class had the lowest survival rate.\n",
    "\n",
    "3. Combined effect (gender + class):\n",
    "\n",
    "-Women in 1st class had the highest survival rate.\n",
    "\n",
    "-Men in 3rd class had the lowest survival rate."
   ]
  }
 ],
 "metadata": {
  "kernelspec": {
   "display_name": "base",
   "language": "python",
   "name": "python3"
  },
  "language_info": {
   "codemirror_mode": {
    "name": "ipython",
    "version": 3
   },
   "file_extension": ".py",
   "mimetype": "text/x-python",
   "name": "python",
   "nbconvert_exporter": "python",
   "pygments_lexer": "ipython3",
   "version": "3.13.5"
  }
 },
 "nbformat": 4,
 "nbformat_minor": 5
}
